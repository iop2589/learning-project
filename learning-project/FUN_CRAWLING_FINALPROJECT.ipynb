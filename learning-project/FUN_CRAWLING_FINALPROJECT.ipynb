{
 "cells": [
  {
   "cell_type": "markdown",
   "metadata": {},
   "source": [
    "<div class=\"alert alert-block\" style=\"border: 2px solid #1976D2;background-color:#E3F2FD;padding:5px;font-size:0.9em;\">\n",
    "본 자료는 저작권법 제25조 2항에 의해 보호를 받습니다. 본 자료를 외부에 공개하지 말아주세요.<br>\n",
    "본 강의만 잘 정리하면, 데이터 분석, 데이터 과학, 풀스택(백엔드, 프론트엔드) 개발 모두 가능합니다!<br>\n",
    "<b><a href=\"https://school.fun-coding.org/\">잔재미코딩</a> 에서 본 강의 기반 최적화된 로드맵도 확인하실 수 있습니다</b></div>"
   ]
  },
  {
   "cell_type": "markdown",
   "metadata": {},
   "source": [
    "<div class=\"alert alert-block\" style=\"border: 2px solid #E65100;background-color:#FFF3E0;padding:10px\">\n",
    "<font size=\"4em\" style=\"color:#BF360C;\">조금더 복잡한 크롤링 연습해보며</font><br>\n",
    "<font size=\"4em\" style=\"color:#BF360C;\">프로그래밍과 크롤링, 전처리, 엑셀 저장 기법까지 정리하기</font>\n",
    "<br><br>\n",
    "<font size=\"4em\" style=\"color:#BF360C;font-weight:bold\">최종 목표</font><br>\n",
    "<font size=\"3.5em\" style=\"color:#BF360C;\">게시판 타이틀과 각 타이틀별 댓글까지 크롤링, 전처리하여, 엑셀로 깔끔하게 자동 저장하기</font><br>\n",
    "<font size=\"3.5em\" style=\"\">- 복잡해보이면 보일수록 단계별로 나누어서 정복해보세요~</font><br>\n",
    "<font size=\"3.5em\" style=\"\">- 이것만 조금씩 익숙해지면, 개발자 또는 데이터 과학 활용(취업등등)이 가능합니다</font>\n",
    "</div>"
   ]
  },
  {
   "cell_type": "markdown",
   "metadata": {},
   "source": [
    "<div class=\"alert alert-block\" style=\"border: 2px solid #E65100;background-color:#FFF3E0;padding:10px\">\n",
    "<font size=\"4em\" style=\"color:#BF360C;\">실제 상용 웹사이트는 수시로 변경되기 때문에, 사이트가 변경되지 않도록, 일부 웹페이지를 가져와서 별도로 구축하여,</font><br>\n",
    "<font size=\"4em\" style=\"color:#BF360C;\">변경되지 않은 사이트 상에서 걱정없이 크롤링 연습을 하실 수 있도록 만들었습니다.</font><br>\n",
    "<font size=\"4em\" style=\"color:#BF360C;\">단, 크롤링은 서버 처리가 필요하므로, 매우 빈번한 크롤링은 사이트 안정성 이슈로 요청을 막을 수 있습니다.</font>\n",
    "</div>"
   ]
  },
  {
   "cell_type": "markdown",
   "metadata": {},
   "source": [
    "### 1단계: 타이틀만 가져와서 출력하기"
   ]
  },
  {
   "cell_type": "code",
   "execution_count": null,
   "metadata": {},
   "outputs": [],
   "source": []
  },
  {
   "cell_type": "markdown",
   "metadata": {},
   "source": [
    "### 2단계: 타이틀 번호 추가하기"
   ]
  },
  {
   "cell_type": "code",
   "execution_count": null,
   "metadata": {},
   "outputs": [],
   "source": []
  },
  {
   "cell_type": "markdown",
   "metadata": {},
   "source": [
    "### 3단계: 타이틀별 댓글 수 추가하기"
   ]
  },
  {
   "cell_type": "code",
   "execution_count": null,
   "metadata": {},
   "outputs": [],
   "source": []
  },
  {
   "cell_type": "markdown",
   "metadata": {},
   "source": [
    "### 4단계: 타이틀별 링크 추가하기"
   ]
  },
  {
   "cell_type": "code",
   "execution_count": null,
   "metadata": {},
   "outputs": [],
   "source": []
  },
  {
   "cell_type": "markdown",
   "metadata": {},
   "source": [
    "### 5단계: 타이틀별 댓글 가져와서 출력하기\n",
    "- 크롤링한 웹페이지의 링크를 기반으로 또다른 크롤링이 가능함\n",
    "- 전처리를 위한 strip(), replace() 등에 익숙해지세요 \n",
    "\n",
    "> 전 타이틀에 대한 댓글을 모두 가져오면, 실행시 시간이 매우 많이 걸리고, 서버에 무리가 되므로, 상위 5개만 테스트해보기\n",
    "> 빈번한 크롤링은 사이트에서 안정성을 위해, 임의로 막을 수 있습니다"
   ]
  },
  {
   "cell_type": "code",
   "execution_count": null,
   "metadata": {},
   "outputs": [],
   "source": []
  },
  {
   "cell_type": "markdown",
   "metadata": {
    "pycharm": {
     "name": "#%% md\n"
    }
   },
   "source": [
    "### 6단계: 엑셀로 저장하기\n",
    "- No, 게시글제목, 댓글 로 게시글 제목과 댓글 수 를 저장하기\n",
    "- 그 다음 라인부터는 해당 게시글의 댓글을 댓글 셀에 저장하기\n",
    "- 최초 10개의 게시글에 대해서만 작성해보기 (공지 포함)\n",
    "\n",
    "#### 엑셀 기본 코드\n",
    "```python\n",
    "import requests, openpyxl\n",
    "from bs4 import BeautifulSoup\n",
    "\n",
    "excel_file = openpyxl.Workbook()\n",
    "excel_sheet = excel_file.active\n",
    "\n",
    "# active 시트 이름 변경\n",
    "excel_sheet.title = 'MYSITE게시글제목'\n",
    "\n",
    "excel_file.save('MYSITE.xlsx')\n",
    "excel_file.close()\n",
    "```\n",
    "    \n",
    "#### 사용할 주요 openpyxl 기능 \n",
    "\n",
    "- **Workbook 생성**: `openpyxl.Workbook()`으로 새 Workbook 생성\n",
    "\n",
    "    ```python\n",
    "    workbook = openpyxl.Workbook()\n",
    "    ```\n",
    "\n",
    "- **Worksheet 이름 변경**: `worksheet.title = 'New Title'`로 Worksheet 이름 변경\n",
    "\n",
    "    ```python\n",
    "    worksheet = workbook.active\n",
    "    worksheet.title = 'Sheet1'\n",
    "    ```\n",
    "\n",
    "- **데이터 추가**: `worksheet.append([data1, data2, data3, ...])`로 새 행 추가\n",
    "\n",
    "    ```python\n",
    "    worksheet.append(['Value 1', 'Value 2', 'Value 3'])\n",
    "    ```\n",
    "\n",
    "- **셀 너비 설정**: `worksheet.column_dimensions['A'].width = 20`로 특정 열 너비 설정\n",
    "\n",
    "    ```python\n",
    "    worksheet.column_dimensions['A'].width = 20\n",
    "    ```\n",
    "\n",
    "- **폰트 설정**: `openpyxl.styles.Font`로 폰트 속성(굵기, 색상, 밑줄 등) 설정\n",
    "\n",
    "    ```python\n",
    "    from openpyxl.styles import Font\n",
    "\n",
    "    font = Font(bold=True, color='FF0000', underline='single')\n",
    "    cell.font = font\n",
    "    ```\n",
    "\n",
    "- **셀에 하이퍼링크 추가**: `cell.hyperlink = 'https://example.com'`로 특정 셀에 하이퍼링크 추가\n",
    "\n",
    "    ```python\n",
    "    cell.hyperlink = 'https://example.com'\n",
    "    ```\n",
    "\n",
    "- **셀 정렬 설정**: `openpyxl.styles.Alignment`로 셀 정렬(중앙, 왼쪽, 오른쪽, 위, 아래 등) 설정\n",
    "\n",
    "    ```python\n",
    "    from openpyxl.styles import Alignment\n",
    "\n",
    "    alignment = Alignment(horizontal='center', vertical='top')\n",
    "    cell.alignment = alignment\n",
    "    ```\n",
    "\n",
    "- **텍스트 줄 바꿈**: `Alignment(wrap_text=True)`로 셀 내의 텍스트 자동 줄 바꿈 설정\n",
    "\n",
    "    ```python\n",
    "    from openpyxl.styles import Alignment\n",
    "\n",
    "    alignment = Alignment(wrap_text=True)\n",
    "    cell.alignment = alignment\n",
    "    ```\n",
    "\n",
    "- **셀 테두리 설정**: `openpyxl.styles.Border`와 `openpyxl.styles.Side`로 셀 테두리 스타일 설정\n",
    "\n",
    "    ```python\n",
    "    from openpyxl.styles import Border, Side\n",
    "\n",
    "    # 얇은 선 테두리 스타일\n",
    "    thin_border = Border(left=Side(style='thin'), right=Side(style='thin'), top=Side(style='thin'), bottom=Side(style='thin'))\n",
    "    cell.border = thin_border\n",
    "\n",
    "    # 굵은 선 테두리 스타일\n",
    "    thick_border = Border(left=Side(style='thick'), right=Side(style='thick'), top=Side(style='thick'), bottom=Side(style='thick'))\n",
    "    cell.border = thick_border\n",
    "    ```\n",
    "\n",
    "- **셀 배경색 설정**: `openpyxl.styles.PatternFill`로 셀 배경색 설정\n",
    "\n",
    "    ```python\n",
    "    from openpyxl.styles import PatternFill\n",
    "\n",
    "    fill = PatternFill(start_color='FF0000', end_color='FF0000', fill_type='solid')\n",
    "    cell.fill = fill\n",
    "    ```"
   ]
  },
  {
   "cell_type": "code",
   "execution_count": null,
   "metadata": {},
   "outputs": [],
   "source": []
  },
  {
   "cell_type": "markdown",
   "metadata": {},
   "source": [
    "### 7단계: 자동 줄바꿈과 볼드체 폰트 적용하기"
   ]
  },
  {
   "cell_type": "code",
   "execution_count": null,
   "metadata": {},
   "outputs": [],
   "source": []
  },
  {
   "cell_type": "markdown",
   "metadata": {},
   "source": [
    "### 8단계: 링크 넣기"
   ]
  },
  {
   "cell_type": "code",
   "execution_count": null,
   "metadata": {
    "pycharm": {
     "name": "#%%\n"
    }
   },
   "outputs": [],
   "source": []
  },
  {
   "cell_type": "markdown",
   "metadata": {},
   "source": [
    "### 9 단계: 링크를 가진 게시글 제목 색상과 밑줄 넣기"
   ]
  },
  {
   "cell_type": "code",
   "execution_count": null,
   "metadata": {
    "pycharm": {
     "name": "#%%\n"
    }
   },
   "outputs": [],
   "source": []
  },
  {
   "cell_type": "markdown",
   "metadata": {},
   "source": [
    "### 10단계: 셀에 border (선) 넣고, 게시글제목 행 색상 넣기"
   ]
  },
  {
   "cell_type": "code",
   "execution_count": null,
   "metadata": {},
   "outputs": [],
   "source": []
  },
  {
   "cell_type": "markdown",
   "metadata": {},
   "source": [
    "### 참고: ChatGPT 를 활용한 엑셀과 파이썬 기능 개선\n",
    "\n",
    "##### 주요 챗GPT 기반 개발 활용 방안\n",
    "\n",
    "- 기능 구현 요청하기\n",
    "- 오류의 원인 물어보기\n",
    "- 작성한 코드에 문제가 있는지 물어보기\n",
    "- 작성한 코드의 개선을 요청하기\n",
    "- 주석을 달아달라고 요청하기\n",
    "\n",
    "> 문구 예: \n",
    ">\n",
    "> Since now, you act as the best IT lecturer for beginners having no idea about python and programming. Plz add detail comments to the following code line by line.\n",
    "\n",
    "- 코드의 해석 요청하기\n",
    "- 작성한 코드 설명해달라고 요청하기\n",
    "\n",
    "> 문구 예:\n",
    ">\n",
    "> plz explain how to use Alignment of openpyxl\n",
    "\n",
    "> 팁: 영어로 질문하고, 영어 답변을 확인한 후, 다음과 같은 요청을 하면, 보다 좋은 퀄러티의 한글 답변을 얻을 수 있음\n",
    "\n",
    "> plz translate the above answer in Korean"
   ]
  },
  {
   "cell_type": "markdown",
   "metadata": {},
   "source": [
    "##### chatGPT 가 작성한 참고 코드 예"
   ]
  },
  {
   "cell_type": "code",
   "execution_count": null,
   "metadata": {},
   "outputs": [],
   "source": []
  },
  {
   "cell_type": "markdown",
   "metadata": {},
   "source": [
    "<div class=\"alert alert-block\" style=\"border: 2px solid #E65100;background-color:#FFF3E0;padding:10px\">\n",
    "<font size=\"4em\" style=\"color:#BF360C;\">여기까지 오시느라, 수고 많으셨습니다! 꼭 도움이 되었으면 좋겠습니다!</font>\n",
    "</div>"
   ]
  },
  {
   "cell_type": "markdown",
   "metadata": {},
   "source": [
    "<div class=\"alert alert-block\" style=\"border: 2px solid #1976D2;background-color:#E3F2FD;padding:5px;font-size:0.9em;\">\n",
    "본 자료는 저작권법 제25조 2항에 의해 보호를 받습니다. 본 자료를 외부에 공개하지 말아주세요.<br>\n",
    "본 강의만 잘 정리하면, 데이터 분석, 데이터 과학, 풀스택(백엔드, 프론트엔드) 개발 모두 가능합니다!<br>\n",
    "<b><a href=\"https://school.fun-coding.org/\">잔재미코딩</a> 에서 본 강의 기반 최적화된 로드맵도 확인하실 수 있습니다</b></div>"
   ]
  }
 ],
 "metadata": {
  "kernelspec": {
   "display_name": "Python 3 (ipykernel)",
   "language": "python",
   "name": "python3"
  },
  "language_info": {
   "codemirror_mode": {
    "name": "ipython",
    "version": 3
   },
   "file_extension": ".py",
   "mimetype": "text/x-python",
   "name": "python",
   "nbconvert_exporter": "python",
   "pygments_lexer": "ipython3",
   "version": "3.11.4"
  }
 },
 "nbformat": 4,
 "nbformat_minor": 2
}
